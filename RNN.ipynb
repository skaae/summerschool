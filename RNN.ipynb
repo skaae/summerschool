{
 "cells": [
  {
   "cell_type": "code",
   "execution_count": 55,
   "metadata": {
    "collapsed": false
   },
   "outputs": [],
   "source": [
    "import lasagne\n",
    "import theano\n",
    "import theano.tensor as T\n",
    "import matplotlib\n",
    "import numpy as np\n",
    "import matplotlib.pyplot as plt\n",
    "from IPython import display\n",
    "from data_generator import get_batch, print_valid_characters\n",
    "%matplotlib inline \n",
    "%matplotlib nbagg"
   ]
  },
  {
   "cell_type": "markdown",
   "metadata": {},
   "source": [
    "# Recurrent Neural Networks\n",
    "In this exercise we'll implement a Encoder-Decoder RNN based on the GRU unit. This types of models have shown impressive performance in Neural Machine Translation and Image Caption generation.\n"
   ]
  },
  {
   "cell_type": "markdown",
   "metadata": {},
   "source": [
    "# Encoder-Decoder\n",
    "In the encoder-decoder structure one RNN (blue) encodes the input and a second RNN (red) calculates the target values. One essential step is to let the encoder and decoder communicate. In the simplest approach you use the last hidden state of the encoder to initialize the decoder. Other approaches lets the decoder attend to different parts of the encoded input at different timesteps in the decoding process. \n",
    "\n",
    "<img src=\"files/enc-dec.png\", width=400>\n",
    "\n",
    "In our implementation we use a RNN with gated recurrent units (GRU) as encoder. We then use the last hidden state of the encoder ($h^{enc}_T$) as input to the decoder which is also a GRU RNN. \n",
    "\n",
    "### RNNs in Lasagne\n",
    "Lasagne have implementations of LSTM and GRU unit. Both layers assume that the input from the ayer below have the shape **(Batch_size, seq_len, num_features)**. In this excercise we will use the GRU unit since it only stores a single hidden value per neuran (LSTMs stores two). This both make the implementation cleaner and faster to run.\n",
    "\n",
    "For ease of implementation we'll create a RepeatLayer that repeats  $h^{enc}_T$ number-of-decoder-step times. That is for each step in the decoder we always use $h^{enc}_T$. Below is an implementation of the RepeatLayer. If you are not sure what RepeatLayer does try run some data thrugh the layer and see what happens.\n"
   ]
  },
  {
   "cell_type": "code",
   "execution_count": 48,
   "metadata": {
    "collapsed": true
   },
   "outputs": [],
   "source": [
    "class RepeatLayer(lasagne.layers.Layer):\n",
    "    def __init__(self, incoming, n, **kwargs):\n",
    "        '''\n",
    "        The input is expected to be a 2D tensor of shape \n",
    "        (num_batch, num_features). The input is repeated\n",
    "        n times such that the output will be \n",
    "        (num_batch, n, num_features)\n",
    "        '''\n",
    "        super(RepeatLayer, self).__init__(incoming, **kwargs)\n",
    "        self.n = n\n",
    "\n",
    "    def get_output_shape_for(self, input_shape):\n",
    "        return tuple([input_shape[0], self.n] + list(input_shape[1:]))\n",
    "\n",
    "    def get_output_for(self, input, **kwargs):\n",
    "        tensors = [input]*self.n\n",
    "        stacked = theano.tensor.stack(*tensors)\n",
    "        dim = [1, 0] + range(2, input.ndim + 1)\n",
    "        return stacked.dimshuffle(dim)"
   ]
  },
  {
   "cell_type": "markdown",
   "metadata": {},
   "source": [
    "### The Data\n",
    "Since RNN models can be very slow to train on real large datasets we will generate some simpler test data for this exercise. The task for the RNN is simply to translate a string of letters spelling the numbers between 0-9 into the corresponding numbers i.e\n",
    "\n",
    "\"one two five\" --> \"125#\" (we use # as a special stop of sequence character)\n",
    "\n",
    "To input the strings into the RNN model we translate the characters into a vector integers using a imple translation table (i.e. 'h'->16, 'o'-> 17 etc). The code below prints a few input/output pairs using the *get_batch* function"
   ]
  },
  {
   "cell_type": "code",
   "execution_count": 93,
   "metadata": {
    "collapsed": false
   },
   "outputs": [
    {
     "name": "stdout",
     "output_type": "stream",
     "text": [
      "int32 float32 int32 float32\n",
      "Number of valid characters: 27\n",
      "'0'=0,\t'1'=1,\t'2'=2,\t'3'=3,\t'4'=4,\t'5'=5,\t'6'=6,\t'7'=7,\t'8'=8,\t'9'=9,\t'#'=10,\t' '=11,\t'e'=12,\t'g'=13,\t'f'=14,\t'i'=15,\t'h'=16,\t'o'=17,\t'n'=18,\t's'=19,\t'r'=20,\t'u'=21,\t't'=22,\t'w'=23,\t'v'=24,\t'x'=25,\t'z'=26,\t\n",
      "None\n",
      "Stop character = #\n",
      "\n",
      "SAMPLE 0\n",
      "TEXT INPUTS:\t\ttwo\n",
      "TEXT TARGETS:\t\t2#\n",
      "ENCODED INPUTS:\t\t[22 23 17  0  0  0  0  0  0  0]\n",
      "MASK INPUTS:\t\t[ 1.  1.  1.  0.  0.  0.  0.  0.  0.  0.]\n",
      "ENCODED TARGETS:\t[ 2 10  0]\n",
      "MASK TARGETS:\t\t[ 1.  1.  0.]\n",
      "\n",
      "SAMPLE 1\n",
      "TEXT INPUTS:\t\tseven five\n",
      "TEXT TARGETS:\t\t75#\n",
      "ENCODED INPUTS:\t\t[19 12 24 12 18 11 14 15 24 12]\n",
      "MASK INPUTS:\t\t[ 1.  1.  1.  1.  1.  1.  1.  1.  1.  1.]\n",
      "ENCODED TARGETS:\t[ 7  5 10]\n",
      "MASK TARGETS:\t\t[ 1.  1.  1.]\n",
      "\n",
      "SAMPLE 2\n",
      "TEXT INPUTS:\t\tzero eight\n",
      "TEXT TARGETS:\t\t08#\n",
      "ENCODED INPUTS:\t\t[26 12 20 17 11 12 15 13 16 22]\n",
      "MASK INPUTS:\t\t[ 1.  1.  1.  1.  1.  1.  1.  1.  1.  1.]\n",
      "ENCODED TARGETS:\t[ 0  8 10]\n",
      "MASK TARGETS:\t\t[ 1.  1.  1.]\n"
     ]
    }
   ],
   "source": [
    "batch_size = 3\n",
    "inputs, input_masks, targets, target_masks, text_inputs, text_targets = \\\n",
    "    get_batch(batch_size=batch_size,max_digits=2,min_digits=1)\n",
    "\n",
    "print inputs.dtype,  input_masks.dtype, targets.dtype, target_masks.dtype\n",
    "    \n",
    "print print_valid_characters()\n",
    "print \"Stop character = #\"\n",
    "\n",
    "\n",
    "for i in range(batch_size):\n",
    "    print \"\\nSAMPLE\",i\n",
    "    print \"TEXT INPUTS:\\t\\t\", text_inputs[i]\n",
    "    print \"TEXT TARGETS:\\t\\t\", text_targets[i]\n",
    "    print \"ENCODED INPUTS:\\t\\t\", inputs[i]\n",
    "    print \"MASK INPUTS:\\t\\t\", input_masks[i]\n",
    "    print \"ENCODED TARGETS:\\t\", targets[i]\n",
    "    print \"MASK TARGETS:\\t\\t\", target_masks[i]"
   ]
  },
  {
   "cell_type": "markdown",
   "metadata": {},
   "source": [
    "### Encoder Decoder model setup\n",
    "Below is the lasagne model definition. A litle tricky implementation detail is that the model is split between a encoder part(taking X as input) and a decoder part (taking the output of the encoder as input). This is not strickly nescessary, but however allows us to use masks for both the inputs and the targets allowing varying length of both."
   ]
  },
  {
   "cell_type": "code",
   "execution_count": 146,
   "metadata": {
    "collapsed": false
   },
   "outputs": [],
   "source": [
    "BATCH_SIZE = 100\n",
    "NUM_UNITS_ENC = 10\n",
    "NUM_UNITS_DEC = 10\n",
    "MAX_DIGITS = 20 \n",
    "MIN_DIGITS = MAX_DIGITS #currently only support for same length outputs - we'll leave it for an exercise to add support for varying length targets\n",
    "NUM_INPUTS = 27\n",
    "NUM_OUTPUTS = 11 #(0-9 + '#')\n",
    "\n",
    "\n",
    "x_sym = T.imatrix()\n",
    "y_sym = T.imatrix()\n",
    "xmask_sym = T.matrix()\n",
    "\n",
    "#dummy data to test implementation\n",
    "#X = np.random.randint(0,10,size=(BATCH_SIZE,15)).astype('int32')\n",
    "#Xmask = np.ones((BATCH_SIZE,NUM_INPUTS)).astype('float32')\n",
    "\n",
    "l_in = lasagne.layers.InputLayer((None, None))\n",
    "l_emb = lasagne.layers.EmbeddingLayer(l_in, NUM_INPUTS, NUM_INPUTS, \n",
    "                                      W=np.eye(NUM_INPUTS,dtype='float32'),\n",
    "                                      name='Embedding')\n",
    "l_emb.params[l_emb.W].remove('trainable') \n",
    "#Here we'll remove the trainable parameters from the embeding layer to constrain \n",
    "#it to a simple \"one-hot-encoding\". You can experiment with removing this line\n",
    "\n",
    "#print lasagne.layers.get_output(l_emb, x_sym).eval({x_sym: X}).shape\n",
    "\n",
    "l_enc = lasagne.layers.GRULayer(l_emb, num_units=NUM_UNITS_ENC, name='GRUEncoder')\n",
    "#print lasagne.layers.get_output(l_enc, x_sym, mask=xmask_sym).eval({x_sym: X, xmask_sym:Xmask}).shape\n",
    "\n",
    "# slice last index of dimension 1\n",
    "l_last_hid = lasagne.layers.SliceLayer(l_enc, indices=-1, axis=1)\n",
    "####END OF ENCODER######\n",
    "\n",
    "\n",
    "####START OF DECODER######\n",
    "#note that the decoder have its own input layer, we'll use that to plug in the output \n",
    "#from the encoder later\n",
    "l_in_dec = lasagne.layers.InputLayer(l_last_hid.output_shape) \n",
    "l_in_rep = RepeatLayer(l_in_dec, n=MAX_DIGITS+1) #we add one to allow space for the end of sequence character\n",
    "l_dec = lasagne.layers.GRULayer(l_in_rep, num_units=NUM_UNITS_DEC, name='GRUDecoder')\n",
    "\n",
    "# We need to do some reshape voodo to connect a softmax layer to the decoder.\n",
    "# See http://lasagne.readthedocs.org/en/latest/modules/layers/recurrent.html#examples \n",
    "\n",
    "l_reshape = lasagne.layers.ReshapeLayer(l_dec, (-1, [2]))\n",
    "#print lasagne.layers.get_output(l_reshape, x_sym).eval({x_sym: X}).shape\n",
    "l_softmax = lasagne.layers.DenseLayer(l_reshape, num_units=NUM_OUTPUTS, \n",
    "                                      nonlinearity=lasagne.nonlinearities.softmax,\n",
    "                                      name='SoftmaxOutput')\n",
    "# print lasagne.layers.get_output(l_softmax, x_sym).eval({x_sym: X}).shape\n",
    "# reshape back to 3d format (here we tied the batch size to the shape of the symbolic variable for X allowing \n",
    "#us to use different batch sizes in the model)\n",
    "l_out = lasagne.layers.ReshapeLayer(l_softmax, (x_sym.shape[0], -1, NUM_OUTPUTS))\n",
    "###END OF DECODER######\n"
   ]
  },
  {
   "cell_type": "markdown",
   "metadata": {},
   "source": [
    "### Defining the cost function and theano functions\n",
    "Becasue the targets are categorical we use cross entropy error. We use the Adam optimizer but you\n",
    "can experiment with the different optimizers implemented in [Lasagne](http://lasagne.readthedocs.org/en/latest/modules/updates.html). "
   ]
  },
  {
   "cell_type": "code",
   "execution_count": 153,
   "metadata": {
    "collapsed": false
   },
   "outputs": [
    {
     "name": "stdout",
     "output_type": "stream",
     "text": [
      "Trainable Model Parameters\n",
      "----------------------------------------\n",
      "GRUEncoder.W_in_to_updategate (27, 10)\n",
      "GRUEncoder.W_hid_to_updategate (10, 10)\n",
      "GRUEncoder.b_updategate (10,)\n",
      "GRUEncoder.W_in_to_resetgate (27, 10)\n",
      "GRUEncoder.W_hid_to_resetgate (10, 10)\n",
      "GRUEncoder.b_resetgate (10,)\n",
      "GRUEncoder.W_in_to_hidden_update (27, 10)\n",
      "GRUEncoder.W_hid_to_hidden_update (10, 10)\n",
      "GRUEncoder.b_hidden_update (10,)\n",
      "GRUEncoder.hid_init (1, 10)\n",
      "GRUDecoder.W_in_to_updategate (10, 10)\n",
      "GRUDecoder.W_hid_to_updategate (10, 10)\n",
      "GRUDecoder.b_updategate (10,)\n",
      "GRUDecoder.W_in_to_resetgate (10, 10)\n",
      "GRUDecoder.W_hid_to_resetgate (10, 10)\n",
      "GRUDecoder.b_resetgate (10,)\n",
      "GRUDecoder.W_in_to_hidden_update (10, 10)\n",
      "GRUDecoder.W_hid_to_hidden_update (10, 10)\n",
      "GRUDecoder.b_hidden_update (10,)\n",
      "GRUDecoder.hid_init (1, 10)\n",
      "SoftmaxOutput.W (10, 11)\n",
      "SoftmaxOutput.b (11,)\n",
      "----------------------------------------\n"
     ]
    }
   ],
   "source": [
    "#get output of encoder using X and Xmask as input\n",
    "output_encoder_train = lasagne.layers.get_output(l_last_hid, x_sym, mask=xmask_sym, deterministic=False,)\n",
    "#get output of decoder using the encoder as input\n",
    "output_decoder_train = lasagne.layers.get_output(l_out, output_encoder_train, deterministic=False)\n",
    "\n",
    "\n",
    "#cost function\n",
    "total_cost = T.nnet.categorical_crossentropy(\n",
    "    T.reshape(output_decoder_train, (-1, NUM_OUTPUTS)), y_sym.flatten())\n",
    "mean_cost = T.mean(total_cost)\n",
    "#accuracy function\n",
    "acc = T.mean(T.eq(T.argmax(output_decoder_train,axis=-1),y_sym))\n",
    "\n",
    "#Get parameters of both encoder and decoder\n",
    "all_parameters = lasagne.layers.get_all_params([l_last_hid, l_out], trainable=True)\n",
    "\n",
    "\n",
    "print \"Trainable Model Parameters\"\n",
    "print \"-\"*40\n",
    "for param in all_parameters:\n",
    "    print param, param.get_value().shape\n",
    "print \"-\"*40\n",
    "\n",
    "#Compile Theano functions\n",
    "updates = lasagne.updates.adam(mean_cost, all_parameters, learning_rate=0.005)\n",
    "train_func = theano.function([x_sym, y_sym, xmask_sym], [mean_cost, acc, output_decoder_train], updates=updates)\n",
    "#since we don't have any stochasticity in the network we will just use the training graph without any updates given\n",
    "test_func = theano.function([x_sym, y_sym, xmask_sym], [acc, output_decoder_train])"
   ]
  },
  {
   "cell_type": "code",
   "execution_count": null,
   "metadata": {
    "collapsed": true
   },
   "outputs": [],
   "source": [
    "#Generate some validation data\n",
    "Xval, Xmask_val, Yval, Ymask_val, _, _ = \\\n",
    "    get_batch(batch_size=5000, max_digits=MAX_DIGITS,min_digits=MIN_DIGITS)"
   ]
  },
  {
   "cell_type": "markdown",
   "metadata": {},
   "source": [
    "### Do training"
   ]
  },
  {
   "cell_type": "code",
   "execution_count": null,
   "metadata": {
    "collapsed": false
   },
   "outputs": [
    {
     "data": {
      "image/png": "[encoded data removed]",
      "text/plain": [
       "<matplotlib.figure.Figure at 0x1177b8f90>"
      ]
     },
     "metadata": {},
     "output_type": "display_data"
    }
   ],
   "source": [
    "NUM_UPDATES = 100000\n",
    "val_interval = 5000\n",
    "samples_processed = 0\n",
    "val_samples = []\n",
    "costs, accs = [], []\n",
    "for n in range(NUM_UPDATES):\n",
    "    inputs, input_masks, targets, target_masks, _, _ = \\\n",
    "        get_batch(batch_size=BATCH_SIZE,max_digits=MAX_DIGITS,min_digits=MIN_DIGITS)\n",
    "    batch_cost, batch_acc, batch_output = train_func(inputs, targets, input_masks)\n",
    "    costs += [batch_cost]\n",
    "    samples_processed += BATCH_SIZE\n",
    "    #print i, samples_processed\n",
    "    #validation data\n",
    "    if samples_processed % val_interval == 0:\n",
    "        #print \"validating\"\n",
    "        batch_acc, batch_output = test_func(Xval, Yval, Xmask_val)\n",
    "        val_samples += [samples_processed]\n",
    "        accs += [batch_acc]\n",
    "        plt.plot(val_samples,accs)\n",
    "        plt.ylabel('Val Acc', fontsize=20)\n",
    "        plt.xlabel('Processed samples', fontsize=20)\n",
    "        plt.title('Val ACC', fontsize=25)\n",
    "        display.display(plt.gcf())\n",
    "        display.clear_output(wait=True)\n",
    "        plt.show()\n",
    "        "
   ]
  },
  {
   "cell_type": "code",
   "execution_count": 45,
   "metadata": {
    "collapsed": false
   },
   "outputs": [
    {
     "data": {
      "image/png": "[encoded data removed]",
      "text/plain": [
       "<matplotlib.figure.Figure at 0x11a297090>"
      ]
     },
     "metadata": {},
     "output_type": "display_data"
    }
   ],
   "source": [
    "# plot training cost\n",
    "plt.figure(figsize=(7,7))\n",
    "plt.plot(costs)\n",
    "plt.ylabel('Cost', fontsize=20)\n",
    "plt.xlabel('Number of updates', fontsize=20)\n",
    "plt.title('Training', fontsize=25)\n",
    "plt.show()"
   ]
  },
  {
   "cell_type": "code",
   "execution_count": 46,
   "metadata": {
    "collapsed": false
   },
   "outputs": [
    {
     "data": {
      "image/png": "[encoded data removed]",
      "text/plain": [
       "<matplotlib.figure.Figure at 0x11bde7150>"
      ]
     },
     "metadata": {},
     "output_type": "display_data"
    }
   ],
   "source": [
    "# plot training cost\n",
    "plt.figure(figsize=(7,7))\n",
    "plt.plot(accs)\n",
    "plt.ylabel('Acc', fontsize=20)\n",
    "plt.xlabel('Number of updates', fontsize=20)\n",
    "plt.title('Training', fontsize=25)\n",
    "plt.show()"
   ]
  },
  {
   "cell_type": "markdown",
   "metadata": {},
   "source": [
    "Excercises:\n",
    "1. Add support for different lengths of targets (hint: add the target_mask to the cost function and only calculate the cost for the non-masked targets)\n",
    "2. Implement decaying learning rate (hint Make the learning rate a sumbolic variable and use it as input to the training function)\n",
    "3. Add more layers to Encoder - two layers seems to be working weel on many real-life problems\n",
    "4. Make the Encoder bidirectional (see hints below)\n",
    "5. Make a Decoder with attenion\n",
    "6. Add dropout to the encoder, do you need a seperate function for evaluation now?\n"
   ]
  },
  {
   "cell_type": "markdown",
   "metadata": {},
   "source": [
    "####2.  Bidirectional Encoder\n",
    "In Lasagne bidirectional RNNs are implementated by running a forward model and a backward model separately and then concatenating them before parsing them on to the next layer. Remember to think about the number of hidden units before and after the concatenation"
   ]
  },
  {
   "cell_type": "code",
   "execution_count": 101,
   "metadata": {
    "collapsed": false
   },
   "outputs": [
    {
     "ename": "SyntaxError",
     "evalue": "invalid syntax (<ipython-input-101-fe3b09099dca>, line 1)",
     "output_type": "error",
     "traceback": [
      "\u001b[0;36m  File \u001b[0;32m\"<ipython-input-101-fe3b09099dca>\"\u001b[0;36m, line \u001b[0;32m1\u001b[0m\n\u001b[0;31m    l_rec_fwd = lasagne.layers.GRULayer(...)\u001b[0m\n\u001b[0m                                        ^\u001b[0m\n\u001b[0;31mSyntaxError\u001b[0m\u001b[0;31m:\u001b[0m invalid syntax\n"
     ]
    }
   ],
   "source": [
    "l_rec_fwd = lasagne.layers.GRULayer(...,backwards=False)\n",
    "l_rec_bwd = lasagne.layers.GRULayer(...,backwards=True)\n",
    "l_rec = lasagne.layers.ConcatLayer([l_rec_fwd, l_rec_bwd], axis=2))"
   ]
  }
 ],
 "metadata": {
  "kernelspec": {
   "display_name": "Python 2",
   "language": "python",
   "name": "python2"
  },
  "language_info": {
   "codemirror_mode": {
    "name": "ipython",
    "version": 2
   },
   "file_extension": ".py",
   "mimetype": "text/x-python",
   "name": "python",
   "nbconvert_exporter": "python",
   "pygments_lexer": "ipython2",
   "version": "2.7.10"
  }
 },
 "nbformat": 4,
 "nbformat_minor": 0
}
